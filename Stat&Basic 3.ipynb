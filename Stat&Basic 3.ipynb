{
 "cells": [
  {
   "cell_type": "code",
   "execution_count": 2,
   "metadata": {},
   "outputs": [],
   "source": [
    "from scipy.stats import norm\n",
    "from scipy.stats import t\n",
    "import math\n",
    "\n",
    "def confidence_interval_norm(alpha, sigma, n, mean):\n",
    "    value = -norm.ppf(alpha / 2) * sigma / math.sqrt(n)\n",
    "    return mean - value, mean + value\n",
    "\n",
    "def confidence_interval_t(alpha, s, n, mean):\n",
    "    value = -t.ppf(alpha / 2, n - 1) * s / math.sqrt(n)\n",
    "    return mean - value, mean + value"
   ]
  },
  {
   "cell_type": "code",
   "execution_count": 9,
   "metadata": {},
   "outputs": [
    {
     "name": "stdout",
     "output_type": "stream",
     "text": [
      "(1818.092671377004, 2181.907328622996)\n",
      "(1778.4873833741433, 2221.5126166258565)\n",
      "(1692.553004440083, 2307.446995559917)\n"
     ]
    }
   ],
   "source": [
    "print(confidence_interval_t(0.1,400,15,2000))\n",
    "print(confidence_interval_t(0.05,400,15,2000))\n",
    "print(confidence_interval_t(0.01,400,15,2000))"
   ]
  },
  {
   "cell_type": "code",
   "execution_count": 10,
   "metadata": {},
   "outputs": [
    {
     "name": "stdout",
     "output_type": "stream",
     "text": [
      "(3352.6537883505453, 3727.3462116494547)\n"
     ]
    }
   ],
   "source": [
    "print(confidence_interval_norm(0.01,1150,250,3540))"
   ]
  },
  {
   "cell_type": "code",
   "execution_count": 28,
   "metadata": {},
   "outputs": [
    {
     "name": "stdout",
     "output_type": "stream",
     "text": [
      "1.19 0.8621033709609435\n"
     ]
    }
   ],
   "source": [
    "x=[1.2,0.2,1.6,1.9,-0.4,0.5,1.4,1.7,2.5,1.3]\n",
    "    \n",
    "xm=sum(x)/10\n",
    "var=0\n",
    "for i in x:\n",
    "    var=var+(i-xm)**2\n",
    "var=var/9\n",
    "sig=var**0.5\n",
    "print(xm,sig)"
   ]
  },
  {
   "cell_type": "code",
   "execution_count": 29,
   "metadata": {},
   "outputs": [
    {
     "name": "stdout",
     "output_type": "stream",
     "text": [
      "(0.5732883999380967, 1.8067116000619032)\n"
     ]
    }
   ],
   "source": [
    "print(confidence_interval_t(0.05,sig,10,xm))"
   ]
  },
  {
   "cell_type": "code",
   "execution_count": 6,
   "metadata": {},
   "outputs": [
    {
     "name": "stdout",
     "output_type": "stream",
     "text": [
      "0.6433299462356551\n",
      "0.7534954505897417\n"
     ]
    }
   ],
   "source": [
    "print(132/189-1.65*math.sqrt((132/189)*(1-(132/189))/189))\n",
    "print(132/189+1.65*math.sqrt((132/189)*(1-(132/189))/189))"
   ]
  },
  {
   "cell_type": "code",
   "execution_count": 18,
   "metadata": {},
   "outputs": [
    {
     "name": "stdout",
     "output_type": "stream",
     "text": [
      "1.8119106729525989\n"
     ]
    }
   ],
   "source": [
    "value =norm.ppf((1 + 0.93)/2)\n",
    "print(value)"
   ]
  },
  {
   "cell_type": "code",
   "execution_count": 24,
   "metadata": {},
   "outputs": [
    {
     "name": "stdout",
     "output_type": "stream",
     "text": [
      "2.5758293035489004\n",
      "3.2498355440153697\n",
      "1.9842169515086827\n",
      "1.959963984540054\n"
     ]
    }
   ],
   "source": [
    "print(norm.ppf((1+0.99)/2))\n",
    "print(t.ppf((1+0.99)/2,10-1))\n",
    "print(t.ppf((1+0.95)/2,100-1))\n",
    "print(norm.ppf((1+0.95)/2))"
   ]
  },
  {
   "cell_type": "code",
   "execution_count": 8,
   "metadata": {},
   "outputs": [
    {
     "name": "stdout",
     "output_type": "stream",
     "text": [
      "-2.0\n",
      "0.022750131948179195\n"
     ]
    }
   ],
   "source": [
    "# stat&basic 4\n",
    "#4.7\n",
    "z=(13.5-14)/(2/math.sqrt(64))\n",
    "print(z)\n",
    "pv=norm.cdf(z)\n",
    "print(pv)"
   ]
  },
  {
   "cell_type": "code",
   "execution_count": 11,
   "metadata": {},
   "outputs": [
    {
     "name": "stdout",
     "output_type": "stream",
     "text": [
      "-1.92\n",
      "0.054857899407673605\n"
     ]
    }
   ],
   "source": [
    "z=(449-455)/(12.5/math.sqrt(16))\n",
    "print(z)\n",
    "pv=norm.cdf(z)*2\n",
    "print(pv)"
   ]
  },
  {
   "cell_type": "code",
   "execution_count": 12,
   "metadata": {},
   "outputs": [
    {
     "name": "stdout",
     "output_type": "stream",
     "text": [
      "-1.92\n",
      "0.027428949703836802\n"
     ]
    }
   ],
   "source": [
    "z=(449-455)/(12.5/math.sqrt(16))\n",
    "print(z)\n",
    "pv=norm.cdf(z)\n",
    "print(pv)"
   ]
  },
  {
   "cell_type": "code",
   "execution_count": 4,
   "metadata": {},
   "outputs": [
    {
     "name": "stdout",
     "output_type": "stream",
     "text": [
      "1.7857142857142858\n",
      "0.03707276555570338\n"
     ]
    }
   ],
   "source": [
    "#4.8\n",
    "z=(7-6.5)/(1.4/math.sqrt(25))\n",
    "print(z)\n",
    "pv=1-norm.cdf(z)\n",
    "print(pv)"
   ]
  },
  {
   "cell_type": "code",
   "execution_count": 32,
   "metadata": {},
   "outputs": [
    {
     "name": "stdout",
     "output_type": "stream",
     "text": [
      "1.7423840858826152\n"
     ]
    }
   ],
   "source": [
    "z=(11500-12000)/(5110/math.sqrt(135))\n",
    "pv=2*(1-t.cdf(z,df=134))\n",
    "print(pv)"
   ]
  }
 ],
 "metadata": {
  "kernelspec": {
   "display_name": "Python 3",
   "language": "python",
   "name": "python3"
  },
  "language_info": {
   "codemirror_mode": {
    "name": "ipython",
    "version": 3
   },
   "file_extension": ".py",
   "mimetype": "text/x-python",
   "name": "python",
   "nbconvert_exporter": "python",
   "pygments_lexer": "ipython3",
   "version": "3.8.5"
  }
 },
 "nbformat": 4,
 "nbformat_minor": 4
}
