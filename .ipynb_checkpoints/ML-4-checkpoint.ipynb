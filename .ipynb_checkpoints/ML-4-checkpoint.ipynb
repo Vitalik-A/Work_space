{
 "cells": [
  {
   "cell_type": "code",
   "execution_count": 145,
   "metadata": {},
   "outputs": [],
   "source": [
    "import pandas as pd\n",
    "from sklearn.model_selection import train_test_split\n",
    "from sklearn.linear_model import LinearRegression\n",
    "from sklearn.metrics import mean_squared_error\n",
    "import numpy as np\n",
    "from sklearn.metrics import accuracy_score,f1_score,precision_score,recall_score\n",
    "from sklearn.preprocessing import StandardScaler\n",
    "from sklearn.linear_model import LogisticRegression\n",
    "from sklearn.neighbors import KNeighborsClassifier\n",
    "from sklearn.model_selection import cross_val_score, KFold\n",
    "from sklearn.metrics import roc_curve, roc_auc_score\n",
    "from sklearn.tree import DecisionTreeClassifier"
   ]
  },
  {
   "cell_type": "code",
   "execution_count": 3,
   "metadata": {},
   "outputs": [],
   "source": [
    "vis_data = pd.read_csv(\"./train.csv\", encoding = 'ISO-8859-1', low_memory = False)"
   ]
  },
  {
   "cell_type": "code",
   "execution_count": 12,
   "metadata": {},
   "outputs": [
    {
     "data": {
      "text/plain": [
       "34.13839024130401"
      ]
     },
     "execution_count": 12,
     "metadata": {},
     "output_type": "execute_result"
    }
   ],
   "source": [
    "#4.3.1\n",
    "train,valid=train_test_split(vis_data,test_size=0.3,shuffle=False)\n",
    "result = valid['payment_amount'].mean()\n",
    "result"
   ]
  },
  {
   "cell_type": "code",
   "execution_count": 32,
   "metadata": {},
   "outputs": [
    {
     "name": "stderr",
     "output_type": "stream",
     "text": [
      "<ipython-input-32-28f2eff86137>:3: SettingWithCopyWarning: \n",
      "A value is trying to be set on a copy of a slice from a DataFrame\n",
      "\n",
      "See the caveats in the documentation: https://pandas.pydata.org/pandas-docs/stable/user_guide/indexing.html#returning-a-view-versus-a-copy\n",
      "  df.dropna(inplace=True)\n"
     ]
    },
    {
     "data": {
      "text/plain": [
       "132.0803344589871"
      ]
     },
     "execution_count": 32,
     "metadata": {},
     "output_type": "execute_result"
    }
   ],
   "source": [
    "#4.5.1\n",
    "\n",
    "df=vis_data[['fine_amount', 'state_fee', 'late_fee', 'discount_amount', 'balance_due']] \n",
    "df.dropna(inplace=True)\n",
    "X=df[['fine_amount', 'state_fee', 'late_fee', 'discount_amount']].to_numpy()\n",
    "Y=df['balance_due'].to_numpy()\n",
    "x_train,x_test,y_train,y_test=train_test_split(X,Y,test_size=0.3,shuffle=False)\n",
    "model=LinearRegression()\n",
    "model.fit(x_train,y_train)\n",
    "y_pred=model.predict(x_test)\n",
    "mse=mean_squared_error(y_pred,y_test)\n",
    "result=np.sqrt(mse)\n",
    "result"
   ]
  },
  {
   "cell_type": "code",
   "execution_count": 41,
   "metadata": {},
   "outputs": [
    {
     "data": {
      "text/plain": [
       "0.99"
      ]
     },
     "execution_count": 41,
     "metadata": {},
     "output_type": "execute_result"
    }
   ],
   "source": [
    "#4.6.2\n",
    "\n",
    "a=[x for x in range(100)]\n",
    "b=[x for x in range(100)]\n",
    "b[0]=1\n",
    "acc=accuracy_score(a,b)\n",
    "acc"
   ]
  },
  {
   "cell_type": "code",
   "execution_count": 37,
   "metadata": {},
   "outputs": [
    {
     "data": {
      "text/plain": [
       "0.6666666666666665"
      ]
     },
     "execution_count": 37,
     "metadata": {},
     "output_type": "execute_result"
    }
   ],
   "source": [
    "#4.6.8\n",
    "\n",
    "y_true = [0, 0, 1, 1, 1, 1, 0, 1]\n",
    "y_pred = [0, 1, 0, 0, 1, 1, 0, 1]\n",
    "f1=f1_score(y_true,y_pred)\n",
    "f1"
   ]
  },
  {
   "cell_type": "code",
   "execution_count": 39,
   "metadata": {},
   "outputs": [
    {
     "data": {
      "text/plain": [
       "0.4"
      ]
     },
     "execution_count": 39,
     "metadata": {},
     "output_type": "execute_result"
    }
   ],
   "source": [
    "#4.6.9\n",
    "\n",
    "y_true = [0, 0, 1, 0, 0, 1, 0]\n",
    "y_pred = [1, 1, 1, 0, 1, 1, 0]\n",
    "prec=precision_score(y_true,y_pred)\n",
    "prec"
   ]
  },
  {
   "cell_type": "code",
   "execution_count": 40,
   "metadata": {},
   "outputs": [
    {
     "data": {
      "text/plain": [
       "1.0"
      ]
     },
     "execution_count": 40,
     "metadata": {},
     "output_type": "execute_result"
    }
   ],
   "source": [
    "#4.6.10\n",
    "\n",
    "y_true = [0, 0, 1, 0, 0, 1, 0]\n",
    "y_pred = [1, 1, 1, 0, 1, 1, 0]\n",
    "rec=recall_score(y_true,y_pred)\n",
    "rec"
   ]
  },
  {
   "cell_type": "code",
   "execution_count": 44,
   "metadata": {},
   "outputs": [
    {
     "name": "stdout",
     "output_type": "stream",
     "text": [
      "0.9726603575184016\n"
     ]
    }
   ],
   "source": [
    "#4.7.1\n",
    "\n",
    "df=pd.read_csv('voiceDataSet.csv')\n",
    "X=df[list(set(df.columns)-set(['label']))].to_numpy()\n",
    "Y=df['label'].to_numpy()\n",
    "x_train,x_test,y_train,y_test=train_test_split(X,Y,test_size=0.3,random_state=42)\n",
    "scaler=StandardScaler().fit(x_train)\n",
    "x_train_std = scaler.transform(x_train)\n",
    "model=LogisticRegression()\n",
    "model.fit(x_train_std,y_train)\n",
    "x_test_std=scaler.transform(x_test)\n",
    "y_pred = model.predict(x_test_std)\n",
    "acc= accuracy_score(y_test,y_pred)\n",
    "print(acc)"
   ]
  },
  {
   "cell_type": "code",
   "execution_count": 48,
   "metadata": {},
   "outputs": [
    {
     "data": {
      "text/plain": [
       "6"
      ]
     },
     "execution_count": 48,
     "metadata": {},
     "output_type": "execute_result"
    }
   ],
   "source": [
    "#4.7.2\n",
    "df=pd.read_csv('glass.csv')\n",
    "df.Type.nunique()"
   ]
  },
  {
   "cell_type": "code",
   "execution_count": 54,
   "metadata": {},
   "outputs": [
    {
     "data": {
      "text/plain": [
       "0.5257575757575758"
      ]
     },
     "execution_count": 54,
     "metadata": {},
     "output_type": "execute_result"
    }
   ],
   "source": [
    "#4.7.3\n",
    "X = df.drop(['Type'],axis=1).to_numpy()\n",
    "Y= df['Type'].to_numpy()\n",
    "model=KNeighborsClassifier(n_neighbors=3)\n",
    "kf = KFold(n_splits=10)\n",
    "acc = cross_val_score(model, X, Y, cv=kf, scoring=\"accuracy\")\n",
    "acc.mean()"
   ]
  },
  {
   "cell_type": "code",
   "execution_count": 124,
   "metadata": {},
   "outputs": [
    {
     "data": {
      "text/html": [
       "<div>\n",
       "<style scoped>\n",
       "    .dataframe tbody tr th:only-of-type {\n",
       "        vertical-align: middle;\n",
       "    }\n",
       "\n",
       "    .dataframe tbody tr th {\n",
       "        vertical-align: top;\n",
       "    }\n",
       "\n",
       "    .dataframe thead th {\n",
       "        text-align: right;\n",
       "    }\n",
       "</style>\n",
       "<table border=\"1\" class=\"dataframe\">\n",
       "  <thead>\n",
       "    <tr style=\"text-align: right;\">\n",
       "      <th></th>\n",
       "      <th>age</th>\n",
       "      <th>sex</th>\n",
       "      <th>cp</th>\n",
       "      <th>trestbps</th>\n",
       "      <th>chol</th>\n",
       "      <th>restecg</th>\n",
       "      <th>thalach</th>\n",
       "      <th>exang</th>\n",
       "      <th>oldpeak</th>\n",
       "      <th>target</th>\n",
       "    </tr>\n",
       "  </thead>\n",
       "  <tbody>\n",
       "    <tr>\n",
       "      <th>count</th>\n",
       "      <td>303.000000</td>\n",
       "      <td>303.000000</td>\n",
       "      <td>303.000000</td>\n",
       "      <td>303.000000</td>\n",
       "      <td>303.000000</td>\n",
       "      <td>303.000000</td>\n",
       "      <td>303.000000</td>\n",
       "      <td>303.000000</td>\n",
       "      <td>303.000000</td>\n",
       "      <td>303.000000</td>\n",
       "    </tr>\n",
       "    <tr>\n",
       "      <th>mean</th>\n",
       "      <td>54.366337</td>\n",
       "      <td>0.683168</td>\n",
       "      <td>0.966997</td>\n",
       "      <td>131.623762</td>\n",
       "      <td>246.264026</td>\n",
       "      <td>0.528053</td>\n",
       "      <td>149.646865</td>\n",
       "      <td>0.326733</td>\n",
       "      <td>1.039604</td>\n",
       "      <td>0.544554</td>\n",
       "    </tr>\n",
       "    <tr>\n",
       "      <th>std</th>\n",
       "      <td>9.082101</td>\n",
       "      <td>0.466011</td>\n",
       "      <td>1.032052</td>\n",
       "      <td>17.538143</td>\n",
       "      <td>51.830751</td>\n",
       "      <td>0.525860</td>\n",
       "      <td>22.905161</td>\n",
       "      <td>0.469794</td>\n",
       "      <td>1.161075</td>\n",
       "      <td>0.498835</td>\n",
       "    </tr>\n",
       "    <tr>\n",
       "      <th>min</th>\n",
       "      <td>29.000000</td>\n",
       "      <td>0.000000</td>\n",
       "      <td>0.000000</td>\n",
       "      <td>94.000000</td>\n",
       "      <td>126.000000</td>\n",
       "      <td>0.000000</td>\n",
       "      <td>71.000000</td>\n",
       "      <td>0.000000</td>\n",
       "      <td>0.000000</td>\n",
       "      <td>0.000000</td>\n",
       "    </tr>\n",
       "    <tr>\n",
       "      <th>25%</th>\n",
       "      <td>47.500000</td>\n",
       "      <td>0.000000</td>\n",
       "      <td>0.000000</td>\n",
       "      <td>120.000000</td>\n",
       "      <td>211.000000</td>\n",
       "      <td>0.000000</td>\n",
       "      <td>133.500000</td>\n",
       "      <td>0.000000</td>\n",
       "      <td>0.000000</td>\n",
       "      <td>0.000000</td>\n",
       "    </tr>\n",
       "    <tr>\n",
       "      <th>50%</th>\n",
       "      <td>55.000000</td>\n",
       "      <td>1.000000</td>\n",
       "      <td>1.000000</td>\n",
       "      <td>130.000000</td>\n",
       "      <td>240.000000</td>\n",
       "      <td>1.000000</td>\n",
       "      <td>153.000000</td>\n",
       "      <td>0.000000</td>\n",
       "      <td>0.800000</td>\n",
       "      <td>1.000000</td>\n",
       "    </tr>\n",
       "    <tr>\n",
       "      <th>75%</th>\n",
       "      <td>61.000000</td>\n",
       "      <td>1.000000</td>\n",
       "      <td>2.000000</td>\n",
       "      <td>140.000000</td>\n",
       "      <td>274.500000</td>\n",
       "      <td>1.000000</td>\n",
       "      <td>166.000000</td>\n",
       "      <td>1.000000</td>\n",
       "      <td>1.600000</td>\n",
       "      <td>1.000000</td>\n",
       "    </tr>\n",
       "    <tr>\n",
       "      <th>max</th>\n",
       "      <td>77.000000</td>\n",
       "      <td>1.000000</td>\n",
       "      <td>3.000000</td>\n",
       "      <td>200.000000</td>\n",
       "      <td>564.000000</td>\n",
       "      <td>2.000000</td>\n",
       "      <td>202.000000</td>\n",
       "      <td>1.000000</td>\n",
       "      <td>6.200000</td>\n",
       "      <td>1.000000</td>\n",
       "    </tr>\n",
       "  </tbody>\n",
       "</table>\n",
       "</div>"
      ],
      "text/plain": [
       "              age         sex          cp    trestbps        chol     restecg  \\\n",
       "count  303.000000  303.000000  303.000000  303.000000  303.000000  303.000000   \n",
       "mean    54.366337    0.683168    0.966997  131.623762  246.264026    0.528053   \n",
       "std      9.082101    0.466011    1.032052   17.538143   51.830751    0.525860   \n",
       "min     29.000000    0.000000    0.000000   94.000000  126.000000    0.000000   \n",
       "25%     47.500000    0.000000    0.000000  120.000000  211.000000    0.000000   \n",
       "50%     55.000000    1.000000    1.000000  130.000000  240.000000    1.000000   \n",
       "75%     61.000000    1.000000    2.000000  140.000000  274.500000    1.000000   \n",
       "max     77.000000    1.000000    3.000000  200.000000  564.000000    2.000000   \n",
       "\n",
       "          thalach       exang     oldpeak      target  \n",
       "count  303.000000  303.000000  303.000000  303.000000  \n",
       "mean   149.646865    0.326733    1.039604    0.544554  \n",
       "std     22.905161    0.469794    1.161075    0.498835  \n",
       "min     71.000000    0.000000    0.000000    0.000000  \n",
       "25%    133.500000    0.000000    0.000000    0.000000  \n",
       "50%    153.000000    0.000000    0.800000    1.000000  \n",
       "75%    166.000000    1.000000    1.600000    1.000000  \n",
       "max    202.000000    1.000000    6.200000    1.000000  "
      ]
     },
     "execution_count": 124,
     "metadata": {},
     "output_type": "execute_result"
    }
   ],
   "source": [
    "#4.7.4\n",
    "df=pd.read_csv('heart_fin1.csv',sep=';')\n",
    "df.describe()"
   ]
  },
  {
   "cell_type": "code",
   "execution_count": 125,
   "metadata": {},
   "outputs": [],
   "source": [
    "columns = df.columns.to_list()\n",
    "for i in columns[:-1]:\n",
    "    IQR=(df[i].quantile(0.75)-df[i].quantile(0.25))*1.5\n",
    "    Lquant=df[i].quantile(0.25)\n",
    "    Hquant=df[i].quantile(0.75)\n",
    "    Low =Lquant-IQR \n",
    "    High=Hquant+IQR\n",
    "    df[i] = df[i].apply(lambda x: None if x>High or x<Low else x )\n",
    "df.dropna(inplace=True)    "
   ]
  },
  {
   "cell_type": "code",
   "execution_count": 127,
   "metadata": {},
   "outputs": [
    {
     "data": {
      "text/plain": [
       "(284, 10)"
      ]
     },
     "execution_count": 127,
     "metadata": {},
     "output_type": "execute_result"
    }
   ],
   "source": [
    "df.shape"
   ]
  },
  {
   "cell_type": "code",
   "execution_count": 143,
   "metadata": {},
   "outputs": [
    {
     "name": "stdout",
     "output_type": "stream",
     "text": [
      "0.8333333333333333    0.6547619047619049\n"
     ]
    },
    {
     "name": "stderr",
     "output_type": "stream",
     "text": [
      "C:\\ProgramData\\Anaconda3\\lib\\site-packages\\sklearn\\linear_model\\_logistic.py:762: ConvergenceWarning: lbfgs failed to converge (status=1):\n",
      "STOP: TOTAL NO. of ITERATIONS REACHED LIMIT.\n",
      "\n",
      "Increase the number of iterations (max_iter) or scale the data as shown in:\n",
      "    https://scikit-learn.org/stable/modules/preprocessing.html\n",
      "Please also refer to the documentation for alternative solver options:\n",
      "    https://scikit-learn.org/stable/modules/linear_model.html#logistic-regression\n",
      "  n_iter_i = _check_optimize_result(\n"
     ]
    }
   ],
   "source": [
    "#4.7.5\n",
    "X=df.drop(['target'],axis=1).to_numpy()\n",
    "Y=df['target'].to_numpy()\n",
    "x_train,x_test,y_train,y_test = train_test_split(X,Y, test_size=0.15, random_state=5)\n",
    "model=LogisticRegression()\n",
    "model.fit(x_train,y_train)\n",
    "y_pred=model.predict_proba(x_test)[:,1]\n",
    "roc_auc1= roc_auc_score(y_test,y_pred)\n",
    "\n",
    "ml=KNeighborsClassifier(n_neighbors=3)\n",
    "ml.fit(x_train,y_train)\n",
    "y_pr=ml.predict_proba(x_test)[:,1]\n",
    "roc_auc2= roc_auc_score(y_test,y_pr)\n",
    "print(roc_auc1,\"  \",roc_auc2)\n"
   ]
  },
  {
   "cell_type": "code",
   "execution_count": 156,
   "metadata": {
    "scrolled": true
   },
   "outputs": [
    {
     "name": "stderr",
     "output_type": "stream",
     "text": [
      "<ipython-input-156-fbebf0cd96cb>:4: SettingWithCopyWarning: \n",
      "A value is trying to be set on a copy of a slice from a DataFrame\n",
      "\n",
      "See the caveats in the documentation: https://pandas.pydata.org/pandas-docs/stable/user_guide/indexing.html#returning-a-view-versus-a-copy\n",
      "  df.dropna(inplace=True)\n"
     ]
    },
    {
     "name": "stdout",
     "output_type": "stream",
     "text": [
      " f1_train = 0.66, f1_test = 0.58\n"
     ]
    }
   ],
   "source": [
    "#4.9.1\n",
    "vis_data = pd.read_csv(\"./train.csv\", encoding = 'ISO-8859-1', low_memory = False)\n",
    "df=vis_data[['fine_amount','state_fee','late_fee','discount_amount','balance_due','compliance']]\n",
    "df.dropna(inplace=True)\n",
    "X=df.drop(['compliance'],axis=1).to_numpy()\n",
    "Y=df['compliance'].to_numpy()\n",
    "x_train,x_test,y_train,y_test=train_test_split(X,Y,test_size=0.3, shuffle=False)\n",
    "model=DecisionTreeClassifier(random_state=23)\n",
    "model.fit(x_train,y_train)\n",
    "y_train_pred=model.predict(x_train)\n",
    "y_test_pred=model.predict(x_test)\n",
    "f1_train=f1_score(y_train,y_train_pred)\n",
    "f1_test=f1_score(y_test,y_test_pred)\n",
    "result=f1_train-f1_test\n",
    "print (f' f1_train = {f1_train:.2}, f1_test = {f1_test:.2}')"
   ]
  },
  {
   "cell_type": "code",
   "execution_count": 169,
   "metadata": {},
   "outputs": [
    {
     "name": "stderr",
     "output_type": "stream",
     "text": [
      "<ipython-input-169-8cacb693b07c>:4: SettingWithCopyWarning: \n",
      "A value is trying to be set on a copy of a slice from a DataFrame\n",
      "\n",
      "See the caveats in the documentation: https://pandas.pydata.org/pandas-docs/stable/user_guide/indexing.html#returning-a-view-versus-a-copy\n",
      "  df.dropna(inplace=True)\n"
     ]
    }
   ],
   "source": [
    "#4.11.1 из 4.9.1\n",
    "vis_data = pd.read_csv(\"./train.csv\", encoding = 'ISO-8859-1', low_memory = False)\n",
    "df=vis_data[['fine_amount','state_fee','late_fee','discount_amount','balance_due','compliance']]\n",
    "df.dropna(inplace=True)\n",
    "X=df.drop(['compliance'],axis=1).to_numpy()\n",
    "Y=df['compliance'].to_numpy()\n",
    "x_train,x_test,y_train,y_test=train_test_split(X,Y,test_size=0.3, shuffle=False)\n",
    "model=DecisionTreeClassifier(random_state=23)\n",
    "model.fit(x_train,y_train)\n",
    "y_test_pred=model.predict(x_test)\n",
    "f1_test_imb=f1_score(y_test,y_test_pred)\n",
    "\n",
    "n=df['compliance'].value_counts()[1]\n",
    "df0 = df[df['compliance']==0].head(n)\n",
    "df1 =  df[df['compliance']==1]\n",
    "new_df=pd.concat([df0,df1],axis=0)\n",
    "\n",
    "X=new_df.drop(['compliance'],axis=1).to_numpy()\n",
    "Y=new_df['compliance'].to_numpy()\n",
    "x_train,x_test,y_train,y_test=train_test_split(X,Y,test_size=0.3, shuffle=False)\n",
    "model=DecisionTreeClassifier(random_state=23)\n",
    "model.fit(x_train,y_train)\n",
    "y_test_pred=model.predict(x_test)\n",
    "f1_test=f1_score(y_test,y_test_pred)\n",
    "result=f1_test-f1_test_imb"
   ]
  },
  {
   "cell_type": "code",
   "execution_count": 171,
   "metadata": {},
   "outputs": [
    {
     "name": "stdout",
     "output_type": "stream",
     "text": [
      "0.7629544040529731    0.580226904376013\n"
     ]
    }
   ],
   "source": [
    "print(f1_test, '  ', f1_test_imb)"
   ]
  },
  {
   "cell_type": "code",
   "execution_count": 168,
   "metadata": {},
   "outputs": [
    {
     "data": {
      "text/html": [
       "<div>\n",
       "<style scoped>\n",
       "    .dataframe tbody tr th:only-of-type {\n",
       "        vertical-align: middle;\n",
       "    }\n",
       "\n",
       "    .dataframe tbody tr th {\n",
       "        vertical-align: top;\n",
       "    }\n",
       "\n",
       "    .dataframe thead th {\n",
       "        text-align: right;\n",
       "    }\n",
       "</style>\n",
       "<table border=\"1\" class=\"dataframe\">\n",
       "  <thead>\n",
       "    <tr style=\"text-align: right;\">\n",
       "      <th></th>\n",
       "      <th>fine_amount</th>\n",
       "      <th>state_fee</th>\n",
       "      <th>late_fee</th>\n",
       "      <th>discount_amount</th>\n",
       "      <th>balance_due</th>\n",
       "      <th>compliance</th>\n",
       "    </tr>\n",
       "  </thead>\n",
       "  <tbody>\n",
       "    <tr>\n",
       "      <th>0</th>\n",
       "      <td>250.0</td>\n",
       "      <td>10.0</td>\n",
       "      <td>25.0</td>\n",
       "      <td>0.0</td>\n",
       "      <td>305.0</td>\n",
       "      <td>0.0</td>\n",
       "    </tr>\n",
       "    <tr>\n",
       "      <th>5</th>\n",
       "      <td>250.0</td>\n",
       "      <td>10.0</td>\n",
       "      <td>25.0</td>\n",
       "      <td>0.0</td>\n",
       "      <td>305.0</td>\n",
       "      <td>0.0</td>\n",
       "    </tr>\n",
       "    <tr>\n",
       "      <th>6</th>\n",
       "      <td>750.0</td>\n",
       "      <td>10.0</td>\n",
       "      <td>75.0</td>\n",
       "      <td>0.0</td>\n",
       "      <td>855.0</td>\n",
       "      <td>0.0</td>\n",
       "    </tr>\n",
       "    <tr>\n",
       "      <th>7</th>\n",
       "      <td>100.0</td>\n",
       "      <td>10.0</td>\n",
       "      <td>10.0</td>\n",
       "      <td>0.0</td>\n",
       "      <td>140.0</td>\n",
       "      <td>0.0</td>\n",
       "    </tr>\n",
       "    <tr>\n",
       "      <th>8</th>\n",
       "      <td>100.0</td>\n",
       "      <td>10.0</td>\n",
       "      <td>10.0</td>\n",
       "      <td>0.0</td>\n",
       "      <td>140.0</td>\n",
       "      <td>0.0</td>\n",
       "    </tr>\n",
       "    <tr>\n",
       "      <th>...</th>\n",
       "      <td>...</td>\n",
       "      <td>...</td>\n",
       "      <td>...</td>\n",
       "      <td>...</td>\n",
       "      <td>...</td>\n",
       "      <td>...</td>\n",
       "    </tr>\n",
       "    <tr>\n",
       "      <th>250186</th>\n",
       "      <td>200.0</td>\n",
       "      <td>10.0</td>\n",
       "      <td>20.0</td>\n",
       "      <td>0.0</td>\n",
       "      <td>0.0</td>\n",
       "      <td>1.0</td>\n",
       "    </tr>\n",
       "    <tr>\n",
       "      <th>250210</th>\n",
       "      <td>200.0</td>\n",
       "      <td>10.0</td>\n",
       "      <td>0.0</td>\n",
       "      <td>0.0</td>\n",
       "      <td>0.0</td>\n",
       "      <td>1.0</td>\n",
       "    </tr>\n",
       "    <tr>\n",
       "      <th>250211</th>\n",
       "      <td>200.0</td>\n",
       "      <td>10.0</td>\n",
       "      <td>0.0</td>\n",
       "      <td>0.0</td>\n",
       "      <td>0.0</td>\n",
       "      <td>1.0</td>\n",
       "    </tr>\n",
       "    <tr>\n",
       "      <th>250265</th>\n",
       "      <td>0.0</td>\n",
       "      <td>10.0</td>\n",
       "      <td>0.0</td>\n",
       "      <td>0.0</td>\n",
       "      <td>0.0</td>\n",
       "      <td>1.0</td>\n",
       "    </tr>\n",
       "    <tr>\n",
       "      <th>250290</th>\n",
       "      <td>200.0</td>\n",
       "      <td>10.0</td>\n",
       "      <td>0.0</td>\n",
       "      <td>0.0</td>\n",
       "      <td>0.0</td>\n",
       "      <td>1.0</td>\n",
       "    </tr>\n",
       "  </tbody>\n",
       "</table>\n",
       "<p>23194 rows × 6 columns</p>\n",
       "</div>"
      ],
      "text/plain": [
       "        fine_amount  state_fee  late_fee  discount_amount  balance_due  \\\n",
       "0             250.0       10.0      25.0              0.0        305.0   \n",
       "5             250.0       10.0      25.0              0.0        305.0   \n",
       "6             750.0       10.0      75.0              0.0        855.0   \n",
       "7             100.0       10.0      10.0              0.0        140.0   \n",
       "8             100.0       10.0      10.0              0.0        140.0   \n",
       "...             ...        ...       ...              ...          ...   \n",
       "250186        200.0       10.0      20.0              0.0          0.0   \n",
       "250210        200.0       10.0       0.0              0.0          0.0   \n",
       "250211        200.0       10.0       0.0              0.0          0.0   \n",
       "250265          0.0       10.0       0.0              0.0          0.0   \n",
       "250290        200.0       10.0       0.0              0.0          0.0   \n",
       "\n",
       "        compliance  \n",
       "0              0.0  \n",
       "5              0.0  \n",
       "6              0.0  \n",
       "7              0.0  \n",
       "8              0.0  \n",
       "...            ...  \n",
       "250186         1.0  \n",
       "250210         1.0  \n",
       "250211         1.0  \n",
       "250265         1.0  \n",
       "250290         1.0  \n",
       "\n",
       "[23194 rows x 6 columns]"
      ]
     },
     "execution_count": 168,
     "metadata": {},
     "output_type": "execute_result"
    }
   ],
   "source": []
  }
 ],
 "metadata": {
  "kernelspec": {
   "display_name": "Python 3",
   "language": "python",
   "name": "python3"
  },
  "language_info": {
   "codemirror_mode": {
    "name": "ipython",
    "version": 3
   },
   "file_extension": ".py",
   "mimetype": "text/x-python",
   "name": "python",
   "nbconvert_exporter": "python",
   "pygments_lexer": "ipython3",
   "version": "3.8.5"
  }
 },
 "nbformat": 4,
 "nbformat_minor": 4
}
