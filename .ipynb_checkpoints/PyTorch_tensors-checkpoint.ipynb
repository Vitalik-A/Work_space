{
 "cells": [
  {
   "cell_type": "markdown",
   "metadata": {
    "id": "girA51a7p2KQ"
   },
   "source": [
    "**PyTorch** идет предустановленным в Google Colab, просто импортируем"
   ]
  },
  {
   "cell_type": "code",
   "execution_count": 5,
   "metadata": {
    "id": "x9pn2-oIpD9l"
   },
   "outputs": [
    {
     "name": "stdout",
     "output_type": "stream",
     "text": [
      "Collecting torch\n",
      "  Downloading torch-1.10.0-cp38-cp38-win_amd64.whl (226.6 MB)\n",
      "Requirement already satisfied: typing-extensions in c:\\programdata\\anaconda3\\lib\\site-packages (from torch) (3.7.4.3)\n",
      "Installing collected packages: torch\n",
      "Successfully installed torch-1.10.0\n"
     ]
    }
   ],
   "source": [
    "import torch\n",
    "import numpy as np"
   ]
  },
  {
   "cell_type": "code",
   "execution_count": 4,
   "metadata": {},
   "outputs": [
    {
     "name": "stdout",
     "output_type": "stream",
     "text": [
      "Requirement already satisfied: torch in c:\\programdata\\anaconda3\\lib\\site-packages (1.10.0)\n",
      "Requirement already satisfied: typing-extensions in c:\\programdata\\anaconda3\\lib\\site-packages (from torch) (3.7.4.3)\n"
     ]
    }
   ],
   "source": [
    "!pip install torch"
   ]
  },
  {
   "cell_type": "markdown",
   "metadata": {
    "id": "ymOllVpQuE4-"
   },
   "source": [
    "**Матричное умножение** - операция над матрицами, где результирующая матрица составлена скалярными произведениями строк и рядов\n",
    "\n",
    "**Скалярное произведение** двух векторов - сумма произведений элементов в соответствующих позициях этих векторов"
   ]
  },
  {
   "cell_type": "code",
   "execution_count": 6,
   "metadata": {
    "colab": {
     "base_uri": "https://localhost:8080/"
    },
    "id": "4HxJbtpyy6Xv",
    "outputId": "0a1155be-a350-4f1a-fc77-de5ab6e63583"
   },
   "outputs": [
    {
     "data": {
      "text/plain": [
       "11"
      ]
     },
     "execution_count": 6,
     "metadata": {},
     "output_type": "execute_result"
    }
   ],
   "source": [
    "v1 = np.array([1, 2])\n",
    "v2 = np.array([3, 4])\n",
    "np.dot(v1, v2)"
   ]
  },
  {
   "cell_type": "code",
   "execution_count": 7,
   "metadata": {
    "colab": {
     "base_uri": "https://localhost:8080/"
    },
    "id": "rsjUyXTNubRe",
    "outputId": "53eb24b9-5252-4390-a73b-4e36753e9f64"
   },
   "outputs": [
    {
     "name": "stdout",
     "output_type": "stream",
     "text": [
      "tensor([[1., 2.],\n",
      "        [3., 4.]])\n",
      "tensor([[2., 2.],\n",
      "        [2., 2.]])\n"
     ]
    }
   ],
   "source": [
    "t1 = torch.Tensor([[1, 2], [3, 4]])\n",
    "t2 = torch.ones(2, 2) * 2\n",
    "print(t1)\n",
    "print(t2)"
   ]
  },
  {
   "cell_type": "markdown",
   "metadata": {
    "id": "nyKejETv1F0Q"
   },
   "source": [
    "теперь умножим эти две матрицы операцией **@** (аналог - torch.**matmul**())"
   ]
  },
  {
   "cell_type": "code",
   "execution_count": 8,
   "metadata": {
    "colab": {
     "base_uri": "https://localhost:8080/"
    },
    "id": "f0Ww9Td5utiW",
    "outputId": "d73f3faa-1108-4438-8761-7f0c2252d049"
   },
   "outputs": [
    {
     "data": {
      "text/plain": [
       "tensor([[ 6.,  6.],\n",
       "        [14., 14.]])"
      ]
     },
     "execution_count": 8,
     "metadata": {},
     "output_type": "execute_result"
    }
   ],
   "source": [
    "t1 @ t2"
   ]
  },
  {
   "cell_type": "markdown",
   "metadata": {
    "id": "_uAFKDy01rNe"
   },
   "source": [
    "**Задание**: вычислить выражение\n",
    "\n",
    "**Дано**: 2 матричных тензора **t1** и **t2**"
   ]
  },
  {
   "cell_type": "code",
   "execution_count": 9,
   "metadata": {
    "colab": {
     "base_uri": "https://localhost:8080/"
    },
    "id": "B2u-ftYJraZO",
    "outputId": "a661d837-694f-4e74-c431-4fde11266288"
   },
   "outputs": [
    {
     "name": "stdout",
     "output_type": "stream",
     "text": [
      "tensor([[1., 1., 1., 1.],\n",
      "        [2., 2., 2., 2.],\n",
      "        [3., 3., 3., 3.],\n",
      "        [4., 4., 4., 4.]])\n",
      "tensor([[1., 2., 3., 4.],\n",
      "        [1., 2., 3., 4.],\n",
      "        [1., 2., 3., 4.],\n",
      "        [1., 2., 3., 4.]])\n"
     ]
    }
   ],
   "source": [
    "t1 = torch.stack([torch.Tensor([1, 1, 1, 1]) * n for n in range(1, 5)])\n",
    "t2 = t1.transpose(-1, -2)\n",
    "print(t1)\n",
    "print(t2)"
   ]
  },
  {
   "cell_type": "markdown",
   "metadata": {
    "id": "TLD4zARs6vS_"
   },
   "source": [
    "**1**) Вычислить выражение **t3** = t1 ** 2 - t2 * 2 + t1 * 4\n",
    "\n",
    "2) Сделать конкатенацию тензоров **t2** и **t3**, записать в тензор **t4** (должна получиться размерность 4 строки и 8 столбцов) \n",
    "\n",
    "Конкатенация - операция, в которой результирующая матрица составлена из рядов первой и второй матрицы, если конкатенация идет вдоль столбцов, или из столбцов первой и второй матрицы, если конкатенация идет вдоль строк. \n",
    "\n",
    "Делается оператором **torch.cat**(tensors, dim), где\n",
    "\n",
    "**tensors** - список исходных тензоров\n",
    "\n",
    "**dim** - измерение, вдоль которого делается конкатенация, 0 - вдоль столбцов, 1 - вдоль строк\n",
    "\n",
    "\n",
    "\n",
    "3) Посчитать скалярное произведение **первой** и **последней** строки матрицы тензора **t4**"
   ]
  },
  {
   "cell_type": "code",
   "execution_count": 20,
   "metadata": {
    "id": "g05gAqVEtO-F"
   },
   "outputs": [
    {
     "name": "stdout",
     "output_type": "stream",
     "text": [
      "tensor([[ 3.,  1., -1., -3.],\n",
      "        [10.,  8.,  6.,  4.],\n",
      "        [19., 17., 15., 13.],\n",
      "        [30., 28., 26., 24.]])\n",
      "tensor([[ 1.,  2.,  3.,  4.,  3.,  1., -1., -3.],\n",
      "        [ 1.,  2.,  3.,  4., 10.,  8.,  6.,  4.],\n",
      "        [ 1.,  2.,  3.,  4., 19., 17., 15., 13.],\n",
      "        [ 1.,  2.,  3.,  4., 30., 28., 26., 24.]])\n",
      "tensor(50.)\n"
     ]
    }
   ],
   "source": [
    "t3=t1**2-t2*2+t1*4\n",
    "print(t3)\n",
    "t4=torch.cat([t2,t3],1)\n",
    "print(t4)\n",
    "print(t4[0,:]@t4[-1,:])"
   ]
  }
 ],
 "metadata": {
  "colab": {
   "name": "PyTorch_tensors.ipynb",
   "provenance": []
  },
  "kernelspec": {
   "display_name": "Python 3",
   "language": "python",
   "name": "python3"
  },
  "language_info": {
   "codemirror_mode": {
    "name": "ipython",
    "version": 3
   },
   "file_extension": ".py",
   "mimetype": "text/x-python",
   "name": "python",
   "nbconvert_exporter": "python",
   "pygments_lexer": "ipython3",
   "version": "3.8.5"
  }
 },
 "nbformat": 4,
 "nbformat_minor": 1
}
