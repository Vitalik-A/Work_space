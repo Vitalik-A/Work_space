{
 "cells": [
  {
   "cell_type": "code",
   "execution_count": 1,
   "metadata": {},
   "outputs": [],
   "source": [
    "import pandas as pd\n",
    "from datetime import datetime, timedelta\n",
    "\n",
    "log = pd.read_csv(\"log.csv\",header=None)\n",
    "log.columns = ['user_id','time', 'bet','win']\n",
    "#log=log[~log.user_id.str.contains('error',na=False)]\n",
    "#log.user_id=log.user_id.apply(lambda x: x[24:])\n",
    "log.time=log.time.str.replace('[', '')\n"
   ]
  },
  {
   "cell_type": "code",
   "execution_count": 40,
   "metadata": {},
   "outputs": [
    {
     "name": "stdout",
     "output_type": "stream",
     "text": [
      "<class 'pandas.core.frame.DataFrame'>\n",
      "RangeIndex: 1000 entries, 0 to 999\n",
      "Data columns (total 4 columns):\n",
      " #   Column   Non-Null Count  Dtype  \n",
      "---  ------   --------------  -----  \n",
      " 0   user_id  1000 non-null   object \n",
      " 1   time     985 non-null    object \n",
      " 2   bet      485 non-null    float64\n",
      " 3   win      138 non-null    float64\n",
      "dtypes: float64(2), object(2)\n",
      "memory usage: 31.4+ KB\n"
     ]
    },
    {
     "data": {
      "text/plain": [
       "None"
      ]
     },
     "metadata": {},
     "output_type": "display_data"
    },
    {
     "data": {
      "text/html": [
       "<div>\n",
       "<style scoped>\n",
       "    .dataframe tbody tr th:only-of-type {\n",
       "        vertical-align: middle;\n",
       "    }\n",
       "\n",
       "    .dataframe tbody tr th {\n",
       "        vertical-align: top;\n",
       "    }\n",
       "\n",
       "    .dataframe thead th {\n",
       "        text-align: right;\n",
       "    }\n",
       "</style>\n",
       "<table border=\"1\" class=\"dataframe\">\n",
       "  <thead>\n",
       "    <tr style=\"text-align: right;\">\n",
       "      <th></th>\n",
       "      <th>user_id</th>\n",
       "      <th>time</th>\n",
       "      <th>bet</th>\n",
       "      <th>win</th>\n",
       "    </tr>\n",
       "  </thead>\n",
       "  <tbody>\n",
       "    <tr>\n",
       "      <th>0</th>\n",
       "      <td>Запись пользователя № - user_919</td>\n",
       "      <td>2019-01-01 14:06:51</td>\n",
       "      <td>NaN</td>\n",
       "      <td>NaN</td>\n",
       "    </tr>\n",
       "    <tr>\n",
       "      <th>1</th>\n",
       "      <td>Запись пользователя № - user_973</td>\n",
       "      <td>2019-01-01 14:51:16</td>\n",
       "      <td>NaN</td>\n",
       "      <td>NaN</td>\n",
       "    </tr>\n",
       "    <tr>\n",
       "      <th>2</th>\n",
       "      <td>Запись пользователя № - user_903</td>\n",
       "      <td>2019-01-01 16:31:16</td>\n",
       "      <td>NaN</td>\n",
       "      <td>NaN</td>\n",
       "    </tr>\n",
       "    <tr>\n",
       "      <th>3</th>\n",
       "      <td>Запись пользователя № - user_954</td>\n",
       "      <td>2019-01-01 17:17:51</td>\n",
       "      <td>NaN</td>\n",
       "      <td>NaN</td>\n",
       "    </tr>\n",
       "    <tr>\n",
       "      <th>4</th>\n",
       "      <td>Запись пользователя № - user_954</td>\n",
       "      <td>2019-01-01 21:31:18</td>\n",
       "      <td>NaN</td>\n",
       "      <td>NaN</td>\n",
       "    </tr>\n",
       "  </tbody>\n",
       "</table>\n",
       "</div>"
      ],
      "text/plain": [
       "                            user_id                 time  bet  win\n",
       "0  Запись пользователя № - user_919  2019-01-01 14:06:51  NaN  NaN\n",
       "1  Запись пользователя № - user_973  2019-01-01 14:51:16  NaN  NaN\n",
       "2  Запись пользователя № - user_903  2019-01-01 16:31:16  NaN  NaN\n",
       "3  Запись пользователя № - user_954  2019-01-01 17:17:51  NaN  NaN\n",
       "4  Запись пользователя № - user_954  2019-01-01 21:31:18  NaN  NaN"
      ]
     },
     "metadata": {},
     "output_type": "display_data"
    }
   ],
   "source": [
    "display(log.info())\n",
    "display(log.head())"
   ]
  },
  {
   "cell_type": "code",
   "execution_count": 41,
   "metadata": {},
   "outputs": [
    {
     "data": {
      "text/plain": [
       "15"
      ]
     },
     "execution_count": 41,
     "metadata": {},
     "output_type": "execute_result"
    }
   ],
   "source": [
    "log.time.isna().sum()"
   ]
  },
  {
   "cell_type": "code",
   "execution_count": 30,
   "metadata": {},
   "outputs": [
    {
     "name": "stdout",
     "output_type": "stream",
     "text": [
      "<class 'pandas.core.frame.DataFrame'>\n",
      "Int64Index: 986 entries, 0 to 995\n",
      "Data columns (total 4 columns):\n",
      " #   Column   Non-Null Count  Dtype  \n",
      "---  ------   --------------  -----  \n",
      " 0   user_id  986 non-null    object \n",
      " 1   time     985 non-null    object \n",
      " 2   bet      472 non-null    float64\n",
      " 3   win      133 non-null    float64\n",
      "dtypes: float64(2), object(2)\n",
      "memory usage: 38.5+ KB\n"
     ]
    }
   ],
   "source": [
    "df=log.drop_duplicates(subset=['user_id','time'])\n",
    "df.info()"
   ]
  },
  {
   "cell_type": "code",
   "execution_count": 43,
   "metadata": {},
   "outputs": [
    {
     "data": {
      "text/plain": [
       "'2019-04-20'"
      ]
     },
     "execution_count": 43,
     "metadata": {},
     "output_type": "execute_result"
    }
   ],
   "source": [
    "log.time=pd.to_datetime(log.time)\n",
    "max_time=log.time.max()\n",
    "datetime.strftime(max_time,'%Y-%m-%d')"
   ]
  },
  {
   "cell_type": "code",
   "execution_count": 38,
   "metadata": {},
   "outputs": [
    {
     "data": {
      "text/plain": [
       "13     57\n",
       "28     59\n",
       "150    54\n",
       "188    34\n",
       "204    26\n",
       "Name: time, dtype: int64"
      ]
     },
     "execution_count": 38,
     "metadata": {},
     "output_type": "execute_result"
    }
   ],
   "source": [
    "log = pd.read_csv(\"log.csv\")  \n",
    "log = log.dropna()  \n",
    "log.columns = ['user_id', 'time', 'bet', 'win']  \n",
    "log['time'] = log['time'].apply(lambda x: x[1:])  \n",
    "log['time'] = pd.to_datetime(log['time'])  \n",
    "log['time'] = log['time'].apply(lambda x: x.minute)\n",
    "log['time'].head() "
   ]
  },
  {
   "cell_type": "code",
   "execution_count": 47,
   "metadata": {},
   "outputs": [
    {
     "data": {
      "text/plain": [
       "36.0    25\n",
       "31.0    23\n",
       "6.0     22\n",
       "50.0    22\n",
       "14.0    21\n",
       "29.0    21\n",
       "12.0    21\n",
       "5.0     21\n",
       "40.0    21\n",
       "18.0    21\n",
       "43.0    21\n",
       "53.0    21\n",
       "58.0    20\n",
       "57.0    20\n",
       "45.0    20\n",
       "48.0    20\n",
       "2.0     20\n",
       "21.0    19\n",
       "56.0    19\n",
       "27.0    19\n",
       "9.0     18\n",
       "54.0    18\n",
       "47.0    18\n",
       "20.0    18\n",
       "34.0    18\n",
       "35.0    18\n",
       "3.0     18\n",
       "33.0    18\n",
       "51.0    17\n",
       "10.0    17\n",
       "55.0    16\n",
       "25.0    16\n",
       "17.0    16\n",
       "49.0    15\n",
       "28.0    15\n",
       "24.0    15\n",
       "30.0    15\n",
       "38.0    15\n",
       "15.0    15\n",
       "37.0    15\n",
       "16.0    15\n",
       "7.0     14\n",
       "4.0     14\n",
       "44.0    14\n",
       "19.0    14\n",
       "32.0    14\n",
       "59.0    13\n",
       "41.0    13\n",
       "1.0     13\n",
       "0.0     12\n",
       "23.0    12\n",
       "39.0    12\n",
       "22.0    11\n",
       "13.0    11\n",
       "42.0    11\n",
       "52.0    10\n",
       "46.0    10\n",
       "8.0      9\n",
       "26.0     9\n",
       "11.0     6\n",
       "Name: time, dtype: int64"
      ]
     },
     "execution_count": 47,
     "metadata": {},
     "output_type": "execute_result"
    }
   ],
   "source": [
    "log.time.dt.minute.value_counts()"
   ]
  },
  {
   "cell_type": "code",
   "execution_count": 48,
   "metadata": {},
   "outputs": [
    {
     "data": {
      "text/plain": [
       "4.0    170\n",
       "2.0    259\n",
       "3.0    264\n",
       "1.0    292\n",
       "Name: time, dtype: int64"
      ]
     },
     "execution_count": 48,
     "metadata": {},
     "output_type": "execute_result"
    }
   ],
   "source": [
    "log.time.dt.month.value_counts(ascending=True)"
   ]
  },
  {
   "cell_type": "code",
   "execution_count": 65,
   "metadata": {},
   "outputs": [
    {
     "data": {
      "text/plain": [
       "39    2019-01-05 01:54:07\n",
       "40    2019-01-05 10:44:56\n",
       "41    2019-01-05 13:13:21\n",
       "42    2019-01-05 14:36:15\n",
       "43    2019-01-05 18:09:15\n",
       "              ...        \n",
       "991   2019-04-20 12:55:41\n",
       "992   2019-04-20 14:59:36\n",
       "993   2019-04-20 17:09:56\n",
       "994   2019-04-20 18:10:07\n",
       "995   2019-04-20 09:59:58\n",
       "Name: time, Length: 283, dtype: datetime64[ns]"
      ]
     },
     "execution_count": 65,
     "metadata": {},
     "output_type": "execute_result"
    }
   ],
   "source": [
    "#11.4\n",
    "log[(log.time.dt.dayofweek==5) | (log.time.dt.dayofweek==6)].time"
   ]
  },
  {
   "cell_type": "code",
   "execution_count": 122,
   "metadata": {},
   "outputs": [
    {
     "data": {
      "text/html": [
       "<div>\n",
       "<style scoped>\n",
       "    .dataframe tbody tr th:only-of-type {\n",
       "        vertical-align: middle;\n",
       "    }\n",
       "\n",
       "    .dataframe tbody tr th {\n",
       "        vertical-align: top;\n",
       "    }\n",
       "\n",
       "    .dataframe thead th {\n",
       "        text-align: right;\n",
       "    }\n",
       "</style>\n",
       "<table border=\"1\" class=\"dataframe\">\n",
       "  <thead>\n",
       "    <tr style=\"text-align: right;\">\n",
       "      <th></th>\n",
       "      <th>user_id</th>\n",
       "      <th>time</th>\n",
       "      <th>bet</th>\n",
       "      <th>win</th>\n",
       "      <th>day</th>\n",
       "    </tr>\n",
       "  </thead>\n",
       "  <tbody>\n",
       "    <tr>\n",
       "      <th>0</th>\n",
       "      <td>Запись пользователя № - user_919</td>\n",
       "      <td>2019-01-01 14:06:51</td>\n",
       "      <td>NaN</td>\n",
       "      <td>NaN</td>\n",
       "      <td>14</td>\n",
       "    </tr>\n",
       "    <tr>\n",
       "      <th>1</th>\n",
       "      <td>Запись пользователя № - user_973</td>\n",
       "      <td>2019-01-01 14:51:16</td>\n",
       "      <td>NaN</td>\n",
       "      <td>NaN</td>\n",
       "      <td>14</td>\n",
       "    </tr>\n",
       "    <tr>\n",
       "      <th>2</th>\n",
       "      <td>Запись пользователя № - user_903</td>\n",
       "      <td>2019-01-01 16:31:16</td>\n",
       "      <td>NaN</td>\n",
       "      <td>NaN</td>\n",
       "      <td>16</td>\n",
       "    </tr>\n",
       "    <tr>\n",
       "      <th>3</th>\n",
       "      <td>Запись пользователя № - user_954</td>\n",
       "      <td>2019-01-01 17:17:51</td>\n",
       "      <td>NaN</td>\n",
       "      <td>NaN</td>\n",
       "      <td>17</td>\n",
       "    </tr>\n",
       "    <tr>\n",
       "      <th>4</th>\n",
       "      <td>Запись пользователя № - user_954</td>\n",
       "      <td>2019-01-01 21:31:18</td>\n",
       "      <td>NaN</td>\n",
       "      <td>NaN</td>\n",
       "      <td>21</td>\n",
       "    </tr>\n",
       "  </tbody>\n",
       "</table>\n",
       "</div>"
      ],
      "text/plain": [
       "                            user_id                time  bet  win  day\n",
       "0  Запись пользователя № - user_919 2019-01-01 14:06:51  NaN  NaN   14\n",
       "1  Запись пользователя № - user_973 2019-01-01 14:51:16  NaN  NaN   14\n",
       "2  Запись пользователя № - user_903 2019-01-01 16:31:16  NaN  NaN   16\n",
       "3  Запись пользователя № - user_954 2019-01-01 17:17:51  NaN  NaN   17\n",
       "4  Запись пользователя № - user_954 2019-01-01 21:31:18  NaN  NaN   21"
      ]
     },
     "execution_count": 122,
     "metadata": {},
     "output_type": "execute_result"
    }
   ],
   "source": [
    "log = pd.read_csv(\"log.csv\",header=None)\n",
    "log.columns = ['user_id','time', 'bet','win']\n",
    "log = log.dropna(axis=0, subset=['time'])\n",
    "log.time=log.time.str.replace('[', '')\n",
    "log['time'] = pd.to_datetime(log['time'])    \n",
    "log['day']=log.time.apply(lambda x:x.hour) \n",
    "log.head()\n"
   ]
  },
  {
   "cell_type": "code",
   "execution_count": 128,
   "metadata": {},
   "outputs": [],
   "source": [
    "def daytime(x):\n",
    "    if x<6: return 'ночь'\n",
    "    if x<=12: return 'утро'\n",
    "    if x<=18: return 'день'\n",
    "    if x<=24: return 'вечер'\n",
    "    return x"
   ]
  },
  {
   "cell_type": "code",
   "execution_count": 130,
   "metadata": {},
   "outputs": [
    {
     "data": {
      "text/plain": [
       "утро     295\n",
       "ночь     265\n",
       "день     240\n",
       "вечер    185\n",
       "Name: day, dtype: int64"
      ]
     },
     "execution_count": 130,
     "metadata": {},
     "output_type": "execute_result"
    }
   ],
   "source": [
    "log.day.apply(daytime).value_counts()\n"
   ]
  },
  {
   "cell_type": "code",
   "execution_count": 132,
   "metadata": {},
   "outputs": [
    {
     "data": {
      "text/html": [
       "<div>\n",
       "<style scoped>\n",
       "    .dataframe tbody tr th:only-of-type {\n",
       "        vertical-align: middle;\n",
       "    }\n",
       "\n",
       "    .dataframe tbody tr th {\n",
       "        vertical-align: top;\n",
       "    }\n",
       "\n",
       "    .dataframe thead th {\n",
       "        text-align: right;\n",
       "    }\n",
       "</style>\n",
       "<table border=\"1\" class=\"dataframe\">\n",
       "  <thead>\n",
       "    <tr style=\"text-align: right;\">\n",
       "      <th></th>\n",
       "      <th>user_id</th>\n",
       "      <th>time</th>\n",
       "      <th>bet</th>\n",
       "      <th>win</th>\n",
       "      <th>hour</th>\n",
       "    </tr>\n",
       "  </thead>\n",
       "  <tbody>\n",
       "    <tr>\n",
       "      <th>14</th>\n",
       "      <td>Запись пользователя № - user_917</td>\n",
       "      <td>2019-01-02 08:57:36</td>\n",
       "      <td>145732.0</td>\n",
       "      <td>1987653.0</td>\n",
       "      <td>8</td>\n",
       "    </tr>\n",
       "    <tr>\n",
       "      <th>29</th>\n",
       "      <td>Запись пользователя № - user_942</td>\n",
       "      <td>2019-01-04 13:59:42</td>\n",
       "      <td>1678321.0</td>\n",
       "      <td>9876543.0</td>\n",
       "      <td>13</td>\n",
       "    </tr>\n",
       "    <tr>\n",
       "      <th>151</th>\n",
       "      <td>Запись пользователя № - user_982</td>\n",
       "      <td>2019-01-16 21:54:22</td>\n",
       "      <td>100.0</td>\n",
       "      <td>4749.0</td>\n",
       "      <td>21</td>\n",
       "    </tr>\n",
       "    <tr>\n",
       "      <th>189</th>\n",
       "      <td>Запись пользователя № - user_964</td>\n",
       "      <td>2019-01-21 18:34:44</td>\n",
       "      <td>200.0</td>\n",
       "      <td>4667.0</td>\n",
       "      <td>18</td>\n",
       "    </tr>\n",
       "    <tr>\n",
       "      <th>205</th>\n",
       "      <td>Запись пользователя № - user_931</td>\n",
       "      <td>2019-01-22 05:26:59</td>\n",
       "      <td>300.0</td>\n",
       "      <td>4319.0</td>\n",
       "      <td>5</td>\n",
       "    </tr>\n",
       "  </tbody>\n",
       "</table>\n",
       "</div>"
      ],
      "text/plain": [
       "                              user_id                time        bet  \\\n",
       "14   Запись пользователя № - user_917 2019-01-02 08:57:36   145732.0   \n",
       "29   Запись пользователя № - user_942 2019-01-04 13:59:42  1678321.0   \n",
       "151  Запись пользователя № - user_982 2019-01-16 21:54:22      100.0   \n",
       "189  Запись пользователя № - user_964 2019-01-21 18:34:44      200.0   \n",
       "205  Запись пользователя № - user_931 2019-01-22 05:26:59      300.0   \n",
       "\n",
       "           win  hour  \n",
       "14   1987653.0     8  \n",
       "29   9876543.0    13  \n",
       "151     4749.0    21  \n",
       "189     4667.0    18  \n",
       "205     4319.0     5  "
      ]
     },
     "execution_count": 132,
     "metadata": {},
     "output_type": "execute_result"
    }
   ],
   "source": [
    "log = pd.read_csv(\"log.csv\",header=None)\n",
    "log.columns = ['user_id','time', 'bet','win']\n",
    "log = log.dropna()\n",
    "log.time=log.time.str.replace('[', '')\n",
    "log['time'] = pd.to_datetime(log['time'])   \n",
    "log['hour']=log.time.apply(lambda x:x.hour) \n",
    "log.head()"
   ]
  },
  {
   "cell_type": "code",
   "execution_count": 135,
   "metadata": {},
   "outputs": [
    {
     "data": {
      "text/plain": [
       "0.0          515\n",
       "500.0         50\n",
       "100.0         48\n",
       "300.0         42\n",
       "800.0         42\n",
       "200.0         40\n",
       "400.0         40\n",
       "700.0         38\n",
       "600.0         37\n",
       "1000.0        37\n",
       "900.0         30\n",
       "9754.0        10\n",
       "10554.0       10\n",
       "10154.0        7\n",
       "10254.0        7\n",
       "10454.0        6\n",
       "9954.0         6\n",
       "10754.0        5\n",
       "10654.0        5\n",
       "10354.0        4\n",
       "10054.0        4\n",
       "9854.0         2\n",
       "5000.0         1\n",
       "27000.0        1\n",
       "9876.0         1\n",
       "156789.0       1\n",
       "12945.0        1\n",
       "12548.0        1\n",
       "145732.0       1\n",
       "1678321.0      1\n",
       "98753.0        1\n",
       "123981.0       1\n",
       "104540.0       1\n",
       "8700.0         1\n",
       "950.0          1\n",
       "8734.0         1\n",
       "7650.0         1\n",
       "Name: bet, dtype: int64"
      ]
     },
     "execution_count": 135,
     "metadata": {},
     "output_type": "execute_result"
    }
   ],
   "source": [
    "#11.5\n",
    "log = pd.read_csv(\"log.csv\",header=None)\n",
    "log.columns = ['user_id','time', 'bet','win']\n",
    "log['bet'].fillna(0).value_counts() "
   ]
  },
  {
   "cell_type": "code",
   "execution_count": 5,
   "metadata": {},
   "outputs": [
    {
     "data": {
      "text/plain": [
       "347"
      ]
     },
     "execution_count": 5,
     "metadata": {},
     "output_type": "execute_result"
    }
   ],
   "source": [
    "def fillna_win(row):  \n",
    "    if row.win!=0: return row.win \n",
    "    elif row.win==0 and row.bet!=0: return 0-row.bet\n",
    "    return 0\n",
    "# Применяем функцию  \n",
    "log = pd.read_csv(\"log.csv\",header=None)\n",
    "log.columns = ['user_id','time', 'bet','win']\n",
    "log.fillna(0,inplace=True) \n",
    "new_win = log.apply(lambda row: fillna_win(row), axis=1)  \n",
    "  \n",
    "# Заменяем старый столбец с пропусками на новый без пропусков  \n",
    "log['win'] = new_win \n",
    "(log.win<0).sum()"
   ]
  },
  {
   "cell_type": "code",
   "execution_count": 7,
   "metadata": {},
   "outputs": [
    {
     "data": {
      "text/plain": [
       "133"
      ]
     },
     "execution_count": 7,
     "metadata": {},
     "output_type": "execute_result"
    }
   ],
   "source": [
    "def net(x):\n",
    "    if x.win<0: return x.win\n",
    "    else: return x.win-x.bet\n",
    "\n",
    "log['net']=log.apply(lambda x:net(x),axis=1)\n",
    "(log.net>0).sum()"
   ]
  },
  {
   "cell_type": "code",
   "execution_count": 162,
   "metadata": {},
   "outputs": [
    {
     "data": {
      "text/plain": [
       "80253.33333333333"
      ]
     },
     "metadata": {},
     "output_type": "display_data"
    },
    {
     "data": {
      "text/plain": [
       "5347.0"
      ]
     },
     "metadata": {},
     "output_type": "display_data"
    }
   ],
   "source": [
    "display(log[log.net>0].net.mean())\n",
    "display(log[log.net>0].net.median())"
   ]
  },
  {
   "cell_type": "code",
   "execution_count": 169,
   "metadata": {},
   "outputs": [
    {
     "data": {
      "text/plain": [
       "0.485"
      ]
     },
     "execution_count": 169,
     "metadata": {},
     "output_type": "execute_result"
    }
   ],
   "source": [
    "#11.7\n",
    "(log.bet>0).sum()/1000"
   ]
  },
  {
   "cell_type": "code",
   "execution_count": 170,
   "metadata": {},
   "outputs": [
    {
     "data": {
      "text/plain": [
       "6785.738144329897"
      ]
     },
     "execution_count": 170,
     "metadata": {},
     "output_type": "execute_result"
    }
   ],
   "source": [
    "log[log.bet>0].bet.mean()"
   ]
  },
  {
   "cell_type": "code",
   "execution_count": 171,
   "metadata": {},
   "outputs": [
    {
     "data": {
      "text/plain": [
       "20421.892783505155"
      ]
     },
     "execution_count": 171,
     "metadata": {},
     "output_type": "execute_result"
    }
   ],
   "source": [
    "log[log.bet>0].net.mean()"
   ]
  },
  {
   "cell_type": "code",
   "execution_count": 172,
   "metadata": {},
   "outputs": [
    {
     "data": {
      "text/plain": [
       "-3372.743515850144"
      ]
     },
     "execution_count": 172,
     "metadata": {},
     "output_type": "execute_result"
    }
   ],
   "source": [
    "log[log.net<0].net.mean()\n"
   ]
  },
  {
   "cell_type": "code",
   "execution_count": 173,
   "metadata": {},
   "outputs": [
    {
     "data": {
      "text/plain": [
       "0.2845360824742268"
      ]
     },
     "metadata": {},
     "output_type": "display_data"
    }
   ],
   "source": [
    "display((log.net>0).sum()/(log.bet>0).sum())"
   ]
  },
  {
   "cell_type": "code",
   "execution_count": 175,
   "metadata": {},
   "outputs": [
    {
     "data": {
      "text/plain": [
       "48"
      ]
     },
     "execution_count": 175,
     "metadata": {},
     "output_type": "execute_result"
    }
   ],
   "source": [
    "log = pd.read_csv(\"log.csv\",header=None)\n",
    "log.columns = ['user_id','time', 'bet','win']\n",
    "min_bet_amount=(log.bet==log.bet.min()).sum()\n",
    "min_bet_amount"
   ]
  },
  {
   "cell_type": "code",
   "execution_count": 8,
   "metadata": {},
   "outputs": [
    {
     "data": {
      "text/html": [
       "<div>\n",
       "<style scoped>\n",
       "    .dataframe tbody tr th:only-of-type {\n",
       "        vertical-align: middle;\n",
       "    }\n",
       "\n",
       "    .dataframe tbody tr th {\n",
       "        vertical-align: top;\n",
       "    }\n",
       "\n",
       "    .dataframe thead th {\n",
       "        text-align: right;\n",
       "    }\n",
       "</style>\n",
       "<table border=\"1\" class=\"dataframe\">\n",
       "  <thead>\n",
       "    <tr style=\"text-align: right;\">\n",
       "      <th></th>\n",
       "      <th>user_id</th>\n",
       "      <th>time</th>\n",
       "      <th>bet</th>\n",
       "      <th>win</th>\n",
       "      <th>net</th>\n",
       "    </tr>\n",
       "  </thead>\n",
       "  <tbody>\n",
       "    <tr>\n",
       "      <th>0</th>\n",
       "      <td>user_919</td>\n",
       "      <td>2019-01-01 14:06:51</td>\n",
       "      <td>0.0</td>\n",
       "      <td>0.0</td>\n",
       "      <td>0.0</td>\n",
       "    </tr>\n",
       "    <tr>\n",
       "      <th>1</th>\n",
       "      <td>user_973</td>\n",
       "      <td>2019-01-01 14:51:16</td>\n",
       "      <td>0.0</td>\n",
       "      <td>0.0</td>\n",
       "      <td>0.0</td>\n",
       "    </tr>\n",
       "    <tr>\n",
       "      <th>2</th>\n",
       "      <td>user_903</td>\n",
       "      <td>2019-01-01 16:31:16</td>\n",
       "      <td>0.0</td>\n",
       "      <td>0.0</td>\n",
       "      <td>0.0</td>\n",
       "    </tr>\n",
       "    <tr>\n",
       "      <th>3</th>\n",
       "      <td>user_954</td>\n",
       "      <td>2019-01-01 17:17:51</td>\n",
       "      <td>0.0</td>\n",
       "      <td>0.0</td>\n",
       "      <td>0.0</td>\n",
       "    </tr>\n",
       "    <tr>\n",
       "      <th>4</th>\n",
       "      <td>user_954</td>\n",
       "      <td>2019-01-01 21:31:18</td>\n",
       "      <td>0.0</td>\n",
       "      <td>0.0</td>\n",
       "      <td>0.0</td>\n",
       "    </tr>\n",
       "  </tbody>\n",
       "</table>\n",
       "</div>"
      ],
      "text/plain": [
       "    user_id                time  bet  win  net\n",
       "0  user_919 2019-01-01 14:06:51  0.0  0.0  0.0\n",
       "1  user_973 2019-01-01 14:51:16  0.0  0.0  0.0\n",
       "2  user_903 2019-01-01 16:31:16  0.0  0.0  0.0\n",
       "3  user_954 2019-01-01 17:17:51  0.0  0.0  0.0\n",
       "4  user_954 2019-01-01 21:31:18  0.0  0.0  0.0"
      ]
     },
     "execution_count": 8,
     "metadata": {},
     "output_type": "execute_result"
    }
   ],
   "source": [
    "#11.8\n",
    "users=pd.read_csv('users.csv',encoding='koi8_r',sep='\\t')\n",
    "users.columns=['user_id','email','geo']\n",
    "users.user_id = users.user_id.apply(lambda x: x.lower())  \n",
    "\n",
    "\n",
    "log = pd.read_csv(\"log.csv\",header=None)\n",
    "log.columns = ['user_id','time', 'bet','win']\n",
    "log = log[log.user_id != '#error']\n",
    "log.time=log.time.str.replace('[', '')\n",
    "log['time'] = pd.to_datetime(log['time'])\n",
    "log.user_id = log.user_id.str.split(' - ').apply(lambda x: x[1])\n",
    "log.fillna(0,inplace=True) \n",
    "new_win = log.apply(lambda row: fillna_win(row), axis=1)\n",
    "log['win'] = new_win \n",
    "log['net']=log.apply(lambda x:net(x),axis=1)\n",
    "log.head()"
   ]
  },
  {
   "cell_type": "code",
   "execution_count": 9,
   "metadata": {},
   "outputs": [],
   "source": [
    "df=pd.merge(users,log,on='user_id')"
   ]
  },
  {
   "cell_type": "code",
   "execution_count": 184,
   "metadata": {},
   "outputs": [
    {
     "data": {
      "text/plain": [
       "user_966    18\n",
       "user_972    16\n",
       "user_973    15\n",
       "user_937    15\n",
       "user_983    15\n",
       "            ..\n",
       "user_945     5\n",
       "user_932     5\n",
       "user_915     5\n",
       "user_996     5\n",
       "user_921     4\n",
       "Name: user_id, Length: 100, dtype: int64"
      ]
     },
     "execution_count": 184,
     "metadata": {},
     "output_type": "execute_result"
    }
   ],
   "source": [
    "df.user_id.value_counts()"
   ]
  },
  {
   "cell_type": "code",
   "execution_count": 13,
   "metadata": {},
   "outputs": [
    {
     "data": {
      "text/plain": [
       "1986.0"
      ]
     },
     "execution_count": 13,
     "metadata": {},
     "output_type": "execute_result"
    }
   ],
   "source": [
    "#11.9\n",
    "df.groupby('user_id').net.sum().median()"
   ]
  },
  {
   "cell_type": "code",
   "execution_count": 14,
   "metadata": {},
   "outputs": [
    {
     "data": {
      "text/html": [
       "<div>\n",
       "<style scoped>\n",
       "    .dataframe tbody tr th:only-of-type {\n",
       "        vertical-align: middle;\n",
       "    }\n",
       "\n",
       "    .dataframe tbody tr th {\n",
       "        vertical-align: top;\n",
       "    }\n",
       "\n",
       "    .dataframe thead th {\n",
       "        text-align: right;\n",
       "    }\n",
       "</style>\n",
       "<table border=\"1\" class=\"dataframe\">\n",
       "  <thead>\n",
       "    <tr style=\"text-align: right;\">\n",
       "      <th></th>\n",
       "      <th>user_id</th>\n",
       "      <th>email</th>\n",
       "      <th>geo</th>\n",
       "      <th>time</th>\n",
       "      <th>bet</th>\n",
       "      <th>win</th>\n",
       "      <th>net</th>\n",
       "    </tr>\n",
       "  </thead>\n",
       "  <tbody>\n",
       "    <tr>\n",
       "      <th>0</th>\n",
       "      <td>user_943</td>\n",
       "      <td>Accumanst@gmail.com</td>\n",
       "      <td>Ижевск</td>\n",
       "      <td>2019-01-06 21:06:57</td>\n",
       "      <td>0.0</td>\n",
       "      <td>0.0</td>\n",
       "      <td>0.0</td>\n",
       "    </tr>\n",
       "    <tr>\n",
       "      <th>1</th>\n",
       "      <td>user_943</td>\n",
       "      <td>Accumanst@gmail.com</td>\n",
       "      <td>Ижевск</td>\n",
       "      <td>2019-01-10 12:16:22</td>\n",
       "      <td>100.0</td>\n",
       "      <td>-100.0</td>\n",
       "      <td>-100.0</td>\n",
       "    </tr>\n",
       "    <tr>\n",
       "      <th>2</th>\n",
       "      <td>user_943</td>\n",
       "      <td>Accumanst@gmail.com</td>\n",
       "      <td>Ижевск</td>\n",
       "      <td>2019-01-27 01:18:47</td>\n",
       "      <td>100.0</td>\n",
       "      <td>-100.0</td>\n",
       "      <td>-100.0</td>\n",
       "    </tr>\n",
       "    <tr>\n",
       "      <th>3</th>\n",
       "      <td>user_943</td>\n",
       "      <td>Accumanst@gmail.com</td>\n",
       "      <td>Ижевск</td>\n",
       "      <td>2019-02-10 11:09:24</td>\n",
       "      <td>100.0</td>\n",
       "      <td>5456.0</td>\n",
       "      <td>5356.0</td>\n",
       "    </tr>\n",
       "    <tr>\n",
       "      <th>4</th>\n",
       "      <td>user_943</td>\n",
       "      <td>Accumanst@gmail.com</td>\n",
       "      <td>Ижевск</td>\n",
       "      <td>2019-02-12 15:09:38</td>\n",
       "      <td>300.0</td>\n",
       "      <td>5245.0</td>\n",
       "      <td>4945.0</td>\n",
       "    </tr>\n",
       "  </tbody>\n",
       "</table>\n",
       "</div>"
      ],
      "text/plain": [
       "    user_id                email     geo                time    bet     win  \\\n",
       "0  user_943  Accumanst@gmail.com  Ижевск 2019-01-06 21:06:57    0.0     0.0   \n",
       "1  user_943  Accumanst@gmail.com  Ижевск 2019-01-10 12:16:22  100.0  -100.0   \n",
       "2  user_943  Accumanst@gmail.com  Ижевск 2019-01-27 01:18:47  100.0  -100.0   \n",
       "3  user_943  Accumanst@gmail.com  Ижевск 2019-02-10 11:09:24  100.0  5456.0   \n",
       "4  user_943  Accumanst@gmail.com  Ижевск 2019-02-12 15:09:38  300.0  5245.0   \n",
       "\n",
       "      net  \n",
       "0     0.0  \n",
       "1  -100.0  \n",
       "2  -100.0  \n",
       "3  5356.0  \n",
       "4  4945.0  "
      ]
     },
     "execution_count": 14,
     "metadata": {},
     "output_type": "execute_result"
    }
   ],
   "source": [
    "#11.10\n",
    "df.head()"
   ]
  },
  {
   "cell_type": "code",
   "execution_count": 21,
   "metadata": {},
   "outputs": [
    {
     "data": {
      "text/plain": [
       "geo\n",
       "Москва             11379755.0\n",
       "Воронеж              107514.0\n",
       "Санкт-Петербург      105345.0\n",
       "Казань                75352.0\n",
       "Ярославль             46845.0\n",
       "Ижевск                34479.0\n",
       "Хабаровск             33451.0\n",
       "Екатеринбург          28582.0\n",
       "Красноярск            27397.0\n",
       "Арзангелтск           25813.0\n",
       "Пермь                 19518.0\n",
       "Краснодар              3248.0\n",
       "Ставрополь              487.0\n",
       "Тюмень                 -499.0\n",
       "Name: win, dtype: float64"
      ]
     },
     "execution_count": 21,
     "metadata": {},
     "output_type": "execute_result"
    }
   ],
   "source": [
    "dm=df.groupby('geo').sum().win.sort_values(ascending=False)\n",
    "dm"
   ]
  },
  {
   "cell_type": "code",
   "execution_count": 35,
   "metadata": {},
   "outputs": [
    {
     "data": {
      "text/plain": [
       "127.81602335164835"
      ]
     },
     "execution_count": 35,
     "metadata": {},
     "output_type": "execute_result"
    }
   ],
   "source": [
    "dm=df[df.bet>0]\n",
    "dm=dm.groupby('geo').mean()\n",
    "dm.bet.max()/dm.bet.min()"
   ]
  },
  {
   "cell_type": "code",
   "execution_count": 38,
   "metadata": {},
   "outputs": [
    {
     "data": {
      "text/plain": [
       "geo\n",
       "Арзангелтск         96\n",
       "Воронеж             88\n",
       "Екатеринбург        49\n",
       "Ижевск              61\n",
       "Казань              66\n",
       "Краснодар           86\n",
       "Красноярск          56\n",
       "Москва              61\n",
       "Пермь               55\n",
       "Санкт-Петербург    115\n",
       "Ставрополь          36\n",
       "Тюмень              32\n",
       "Хабаровск           60\n",
       "Ярославль           89\n",
       "Name: user_id, dtype: int64"
      ]
     },
     "execution_count": 38,
     "metadata": {},
     "output_type": "execute_result"
    }
   ],
   "source": [
    "users=pd.read_csv('users.csv',encoding='koi8_r',sep='\\t')\n",
    "users.columns=['user_id','email','geo']\n",
    "users.user_id = users.user_id.apply(lambda x: x.lower())  \n",
    "\n",
    "\n",
    "log = pd.read_csv(\"log.csv\",header=None)\n",
    "log.columns = ['user_id','time', 'bet','win']\n",
    "log = log[log.user_id != '#error']\n",
    "log.time=log.time.str.replace('[', '')\n",
    "log['time'] = pd.to_datetime(log['time'])\n",
    "log.user_id = log.user_id.str.split(' - ').apply(lambda x: x[1])\n",
    "dl=pd.merge(users,log,on='user_id')\n",
    "dl.groupby('geo').user_id.count()"
   ]
  },
  {
   "cell_type": "code",
   "execution_count": 42,
   "metadata": {},
   "outputs": [
    {
     "data": {
      "text/plain": [
       "0      1\n",
       "1      1\n",
       "2      1\n",
       "3      1\n",
       "4      1\n",
       "      ..\n",
       "991    4\n",
       "992    4\n",
       "993    4\n",
       "994    4\n",
       "995    4\n",
       "Name: time, Length: 985, dtype: int64"
      ]
     },
     "execution_count": 42,
     "metadata": {},
     "output_type": "execute_result"
    }
   ],
   "source": [
    "log['time'].apply(lambda pandas_dataframe: pandas_dataframe.month)"
   ]
  }
 ],
 "metadata": {
  "kernelspec": {
   "display_name": "Python 3",
   "language": "python",
   "name": "python3"
  },
  "language_info": {
   "codemirror_mode": {
    "name": "ipython",
    "version": 3
   },
   "file_extension": ".py",
   "mimetype": "text/x-python",
   "name": "python",
   "nbconvert_exporter": "python",
   "pygments_lexer": "ipython3",
   "version": "3.8.3"
  }
 },
 "nbformat": 4,
 "nbformat_minor": 4
}
