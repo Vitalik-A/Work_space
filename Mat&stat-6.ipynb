{
 "cells": [
  {
   "cell_type": "code",
   "execution_count": 1,
   "metadata": {},
   "outputs": [],
   "source": [
    "import numpy as np\n",
    "import matplotlib.pyplot as plt\n",
    "from scipy.optimize import linprog\n",
    "from scipy import optimize"
   ]
  },
  {
   "cell_type": "code",
   "execution_count": 2,
   "metadata": {},
   "outputs": [
    {
     "name": "stdout",
     "output_type": "stream",
     "text": [
      "     con: array([4.39231856e-06, 6.01910315e-06, 5.61240711e-06])\n",
      "     fun: 1899.999925682654\n",
      " message: 'Optimization terminated successfully.'\n",
      "     nit: 5\n",
      "   slack: array([7.20364883e-06, 8.82017997e-06])\n",
      "  status: 0\n",
      " success: True\n",
      "       x: array([1.09999995e+02, 4.43103329e-08, 6.99999980e+01, 8.98577274e-07,\n",
      "       1.49999994e+02, 6.99999963e+01])\n"
     ]
    }
   ],
   "source": [
    "#5.1\n",
    "C=[2,5,3,7,7,6]\n",
    "A_ub=[[1,1,1,0,0,0],\n",
    "      [0,0,0,1,1,1]]\n",
    "b_ub=[180,220]\n",
    "A_eq=[[1,0,0,1,0,0],\n",
    "      [0,1,0,0,1,0],\n",
    "      [0,0,1,0,0,1]]\n",
    "b_eq=[110,150,140]\n",
    "print(linprog(C,A_ub,b_ub,A_eq,b_eq))"
   ]
  },
  {
   "cell_type": "code",
   "execution_count": 11,
   "metadata": {},
   "outputs": [
    {
     "data": {
      "text/plain": [
       "      fun: 1.0000000000009623\n",
       " hess_inv: array([[0.34668199, 0.1244041 ],\n",
       "       [0.1244041 , 0.12440341]])\n",
       "      jac: array([-2.98023224e-08,  4.06801701e-06])\n",
       "  message: 'Optimization terminated successfully.'\n",
       "     nfev: 78\n",
       "      nit: 23\n",
       "     njev: 26\n",
       "   status: 0\n",
       "  success: True\n",
       "        x: array([1.00000048, 1.00000049])"
      ]
     },
     "execution_count": 11,
     "metadata": {},
     "output_type": "execute_result"
    }
   ],
   "source": [
    "#7.1\n",
    "def f(x,y):\n",
    "    return 2*x**2-4*x*y+y**4+2\n",
    "optimize.minimize(lambda x:f(*x), x0=(-100,100))"
   ]
  },
  {
   "cell_type": "code",
   "execution_count": 17,
   "metadata": {},
   "outputs": [
    {
     "data": {
      "text/plain": [
       "      fun: -6.999999999999025\n",
       " hess_inv: array([[ 0.16744716,  0.15927052, -0.00309127],\n",
       "       [ 0.15927052,  0.75675077,  0.31041856],\n",
       "       [-0.00309127,  0.31041856,  0.66042463]])\n",
       "      jac: array([ 1.19209290e-06, -1.90734863e-06,  3.57627869e-07])\n",
       "  message: 'Optimization terminated successfully.'\n",
       "     nfev: 60\n",
       "      nit: 12\n",
       "     njev: 15\n",
       "   status: 0\n",
       "  success: True\n",
       "        x: array([ 1.99999989,  0.99999879, -2.00000037])"
      ]
     },
     "execution_count": 17,
     "metadata": {},
     "output_type": "execute_result"
    }
   ],
   "source": [
    "#7.3\n",
    "def f(x,y,z):\n",
    "    return x**3-2*x**2+y**2+z**2-2*x*y+x*z-y*z+3*z\n",
    "optimize.minimize(lambda x:f(*x), x0=(-1,100,10))"
   ]
  },
  {
   "cell_type": "code",
   "execution_count": 4,
   "metadata": {},
   "outputs": [],
   "source": [
    "a=np.array([[2,1],[1,0]])\n",
    "b=np.linalg.inv(a)"
   ]
  },
  {
   "cell_type": "code",
   "execution_count": 6,
   "metadata": {},
   "outputs": [
    {
     "data": {
      "text/plain": [
       "array([ 3., -7.])"
      ]
     },
     "execution_count": 6,
     "metadata": {},
     "output_type": "execute_result"
    }
   ],
   "source": [
    "c=np.array([-1,3])\n",
    "b@c"
   ]
  }
 ],
 "metadata": {
  "kernelspec": {
   "display_name": "Python 3",
   "language": "python",
   "name": "python3"
  },
  "language_info": {
   "codemirror_mode": {
    "name": "ipython",
    "version": 3
   },
   "file_extension": ".py",
   "mimetype": "text/x-python",
   "name": "python",
   "nbconvert_exporter": "python",
   "pygments_lexer": "ipython3",
   "version": "3.8.5"
  }
 },
 "nbformat": 4,
 "nbformat_minor": 4
}
