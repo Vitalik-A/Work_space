{
 "cells": [
  {
   "cell_type": "code",
   "execution_count": 13,
   "metadata": {},
   "outputs": [
    {
     "name": "stdout",
     "output_type": "stream",
     "text": [
      "40.6\n",
      "2.04\n",
      "1.42828568570857\n"
     ]
    }
   ],
   "source": [
    "#2.5.2\n",
    "dic={38:0.1, 39:0.1, 40:0.3, 41:0.2, 42:0.2, 43:0.1}\n",
    "E=0\n",
    "for k,v in dic.items():\n",
    "    E+=k*v\n",
    "print(E)    \n",
    "Var=0\n",
    "for k,v in dic.items():\n",
    "    Var+=(k-E)**2*v\n",
    "G=Var**0.5\n",
    "print(Var)\n",
    "print(G)"
   ]
  },
  {
   "cell_type": "code",
   "execution_count": 30,
   "metadata": {},
   "outputs": [
    {
     "name": "stdout",
     "output_type": "stream",
     "text": [
      "Ed1=2.8\n",
      "Vard1=1.16\n",
      "Ed2=0.0\n",
      "Vard2=1.4\n",
      "EU=\n",
      "9.399999999999999\n",
      "ES=\n",
      "5.0\n",
      "VarU=\n",
      "10.44\n",
      "VarS=\n",
      "-1.4\n",
      "Eus=\n",
      "4.399999999999999\n",
      "Varus=\n",
      "11.84\n"
     ]
    }
   ],
   "source": [
    "d1={1:0.2, 2:0.1, 3:0.4, 4:0.3}\n",
    "d2={-1:0.5, 0:0.2, 1:0.1, 2:0.2}\n",
    "Ed1=0\n",
    "for k,v in d1.items():\n",
    "    Ed1+=k*v\n",
    "print('Ed1={}'.format(Ed1))    \n",
    "\n",
    "Vard1=0\n",
    "for k,v in d1.items():\n",
    "    Vard1+=(k-Ed1)**2*v\n",
    "print('Vard1={}'.format(Vard1))\n",
    "\n",
    "Ed2=0\n",
    "for k,v in d2.items():\n",
    "    Ed2+=k*v\n",
    "print('Ed2={}'.format(Ed2))    \n",
    "\n",
    "Vard2=0\n",
    "for k,v in d2.items():\n",
    "    Vard2+=(k-Ed2)**2*v\n",
    "print('Vard2={}'.format(Vard2))\n",
    "\n",
    "EU=3*Ed1+1\n",
    "ES=5-Ed2\n",
    "VarU=9*Vard1\n",
    "VarS=0-Vard2\n",
    "Eus=EU-ES\n",
    "Varus=VarU-VarS\n",
    "print('EU=',EU,'ES=',ES, 'VarU=',VarU, 'VarS=',VarS,'Eus=',Eus,'Varus=',Varus,sep='\\n')"
   ]
  },
  {
   "cell_type": "code",
   "execution_count": 43,
   "metadata": {},
   "outputs": [
    {
     "data": {
      "text/plain": [
       "0.9772498680518208"
      ]
     },
     "execution_count": 43,
     "metadata": {},
     "output_type": "execute_result"
    }
   ],
   "source": [
    "from scipy.stats import norm\n",
    "norm.cdf(2)"
   ]
  },
  {
   "cell_type": "code",
   "execution_count": 14,
   "metadata": {},
   "outputs": [
    {
     "data": {
      "text/plain": [
       "-2.3263478740408408"
      ]
     },
     "execution_count": 14,
     "metadata": {},
     "output_type": "execute_result"
    }
   ],
   "source": [
    "norm.ppf(0.01)"
   ]
  },
  {
   "cell_type": "code",
   "execution_count": 19,
   "metadata": {},
   "outputs": [
    {
     "data": {
      "text/plain": [
       "0.0126736593387341"
      ]
     },
     "execution_count": 19,
     "metadata": {},
     "output_type": "execute_result"
    }
   ],
   "source": [
    "1-norm.cdf(75,70,5/(5**0.5))"
   ]
  },
  {
   "cell_type": "code",
   "execution_count": 28,
   "metadata": {},
   "outputs": [
    {
     "data": {
      "text/plain": [
       "0.06680720126885807"
      ]
     },
     "execution_count": 28,
     "metadata": {},
     "output_type": "execute_result"
    }
   ],
   "source": [
    "\n",
    "norm.cdf(0.16,0.2,((0.2*(1-0.2))/225)**0.5)"
   ]
  },
  {
   "cell_type": "code",
   "execution_count": 29,
   "metadata": {},
   "outputs": [
    {
     "data": {
      "text/plain": [
       "800.0"
      ]
     },
     "execution_count": 29,
     "metadata": {},
     "output_type": "execute_result"
    }
   ],
   "source": [
    "#2.11.1\n",
    "(1*0.3+2*0.4+3*0.3)*400"
   ]
  },
  {
   "cell_type": "code",
   "execution_count": 35,
   "metadata": {},
   "outputs": [
    {
     "name": "stdout",
     "output_type": "stream",
     "text": [
      "Ed=3.7\n",
      "Edf=18.0\n"
     ]
    }
   ],
   "source": [
    "#2.11.2\n",
    "d={2:0.1, 3:0.2, 4:0.6, 5:0.1}\n",
    "Ed=0\n",
    "for k,v in d.items():\n",
    "    Ed+=k*v\n",
    "print('Ed={}'.format(Ed)) \n",
    "Ed2=0\n",
    "for k,v in d.items():\n",
    "    Ed2+=(k**2)*v\n",
    "print('Edf={}'.format(Ed2+Ed))\n",
    " "
   ]
  },
  {
   "cell_type": "code",
   "execution_count": 42,
   "metadata": {},
   "outputs": [
    {
     "name": "stdout",
     "output_type": "stream",
     "text": [
      "0.15865525393145707\n",
      "0.24263842038561922\n",
      "502.61756476582326\n"
     ]
    }
   ],
   "source": [
    "#2.11.4\n",
    "m=700\n",
    "G=120\n",
    "#1 >820\n",
    "print(1-norm.cdf(820,m,G))\n",
    "#2 730< x <820\n",
    "print(norm.cdf(820,m,G)-norm.cdf(730,m,G))\n",
    "#3\n",
    "print(norm.ppf(0.05,m,G))"
   ]
  },
  {
   "cell_type": "code",
   "execution_count": null,
   "metadata": {},
   "outputs": [],
   "source": []
  }
 ],
 "metadata": {
  "kernelspec": {
   "display_name": "Python 3",
   "language": "python",
   "name": "python3"
  },
  "language_info": {
   "codemirror_mode": {
    "name": "ipython",
    "version": 3
   },
   "file_extension": ".py",
   "mimetype": "text/x-python",
   "name": "python",
   "nbconvert_exporter": "python",
   "pygments_lexer": "ipython3",
   "version": "3.8.5"
  }
 },
 "nbformat": 4,
 "nbformat_minor": 4
}
